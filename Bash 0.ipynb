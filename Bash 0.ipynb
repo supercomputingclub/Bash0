{
 "cells": [
  {
   "cell_type": "markdown",
   "metadata": {},
   "source": [
    "# Bash\n",
    "### The basics"
   ]
  },
  {
   "cell_type": "markdown",
   "metadata": {},
   "source": [
    "#### What is bash?"
   ]
  },
  {
   "cell_type": "markdown",
   "metadata": {},
   "source": [
    "An interface to interact with your computer without having to use a graphic user interface.\n",
    "\n",
    "It allows you to edit, view, create files, folders, and more."
   ]
  },
  {
   "cell_type": "markdown",
   "metadata": {},
   "source": [
    "#### What can it do for me?"
   ]
  },
  {
   "cell_type": "markdown",
   "metadata": {},
   "source": [
    "It could potentially speed up certain tasks which would take a long time with a mouse."
   ]
  },
  {
   "cell_type": "markdown",
   "metadata": {},
   "source": [
    "## Navigating Bash\n",
    "### The file directory"
   ]
  },
  {
   "cell_type": "markdown",
   "metadata": {},
   "source": [
    "Imagine the file directory as an upside down tree. The top of the tree is called the root. This is where all other folders \"branch\" from.\n",
    "\n",
    "In a computer this is where all your files and folders live."
   ]
  },
  {
   "cell_type": "markdown",
   "metadata": {},
   "source": [
    "#### How do I navigate this tree using Bash?"
   ]
  },
  {
   "cell_type": "raw",
   "metadata": {},
   "source": [
    "$ cd\n",
    "$ cd folder"
   ]
  },
  {
   "cell_type": "markdown",
   "metadata": {},
   "source": [
    "#### How do I see where I am in the tree?"
   ]
  },
  {
   "cell_type": "raw",
   "metadata": {},
   "source": [
    "$ pwd"
   ]
  },
  {
   "cell_type": "markdown",
   "metadata": {},
   "source": [
    "This will print the absolute path of where you are in the tree. This is useful when trying to locate where you are."
   ]
  },
  {
   "cell_type": "markdown",
   "metadata": {},
   "source": [
    "#### How do I see what is in a folder?"
   ]
  },
  {
   "cell_type": "raw",
   "metadata": {},
   "source": [
    "$ ls"
   ]
  },
  {
   "cell_type": "markdown",
   "metadata": {},
   "source": [
    "Prints out whatever is contained in the folder. "
   ]
  },
  {
   "cell_type": "markdown",
   "metadata": {},
   "source": [
    "#### Where does the terminal open? What is located in your 'home' directory? "
   ]
  },
  {
   "cell_type": "raw",
   "metadata": {},
   "source": [
    "$ pwd\n",
    "$ ls"
   ]
  },
  {
   "cell_type": "markdown",
   "metadata": {},
   "source": [
    "#### Navigate into Documents and create a new directory there."
   ]
  },
  {
   "cell_type": "raw",
   "metadata": {},
   "source": [
    "$ cd Documents\n",
    "$ mkdir BashDemo"
   ]
  },
  {
   "cell_type": "markdown",
   "metadata": {},
   "source": [
    "#### "
   ]
  },
  {
   "cell_type": "markdown",
   "metadata": {},
   "source": [
    "# Git with Linux\n",
    "### Configure your Github account on your terminal"
   ]
  },
  {
   "cell_type": "raw",
   "metadata": {},
   "source": [
    "$ git config --global user.name [your_username]\n",
    "$ git config --global user.email [your_email]"
   ]
  },
  {
   "cell_type": "markdown",
   "metadata": {},
   "source": [
    "### Create a new directory and initialize with git ###"
   ]
  },
  {
   "cell_type": "raw",
   "metadata": {},
   "source": [
    "$ mkdir inClass\n",
    "$ cd inClass\n",
    "$ git init"
   ]
  },
  {
   "cell_type": "markdown",
   "metadata": {},
   "source": [
    "### Make a new file in your new directory\n",
    "You can make any kind of file this way, even a .py script"
   ]
  },
  {
   "cell_type": "raw",
   "metadata": {},
   "source": [
    "$ touch hello.py"
   ]
  },
  {
   "cell_type": "markdown",
   "metadata": {},
   "source": [
    "### Confirm contents of your directory and use vim to edit the file"
   ]
  },
  {
   "cell_type": "raw",
   "metadata": {},
   "source": [
    "$ ls\n",
    "$ vim hello.py"
   ]
  },
  {
   "cell_type": "markdown",
   "metadata": {},
   "source": [
    "# Exercise 2\n",
    "\n",
    "We want to send our teammate all the **.pdf** files within our messy folder. So we will do this in a few steps.\n",
    "\n",
    "    1. Make folder for our PDFs which we will eventually zip\n",
    "    2. Copy the files from our messy folder to our designated folder\n",
    "    3. Zip folder\n",
    "    4. Send to teammate"
   ]
  },
  {
   "cell_type": "markdown",
   "metadata": {},
   "source": [
    "## SOLUTION\n",
    "\n",
    "Step 1 we can use the following command to create the folder we will zip. (We can name it whatever we wish, but I will use the name of \"emailFolder\" for this example."
   ]
  },
  {
   "cell_type": "raw",
   "metadata": {},
   "source": [
    "$ mkdir emailFolder"
   ]
  },
  {
   "cell_type": "markdown",
   "metadata": {},
   "source": [
    "Step 2 is going to utilize the **cp** command in order to get a copy of our PDFs. We will use the wildcard character (\\*) with \".pdf\" to get all PDFs regardless of name."
   ]
  },
  {
   "cell_type": "raw",
   "metadata": {},
   "source": [
    "$ cp *.pdf emailFolder"
   ]
  },
  {
   "cell_type": "markdown",
   "metadata": {},
   "source": [
    "Step 3 we will use the **zip** command in order to zip up our folder, so that we can send it"
   ]
  },
  {
   "cell_type": "raw",
   "metadata": {},
   "source": [
    "$ zip -r emailFolder.zip emailFolder "
   ]
  },
  {
   "cell_type": "markdown",
   "metadata": {},
   "source": [
    "We are now done and can send over the zip file to our teammate"
   ]
  },
  {
   "cell_type": "code",
   "execution_count": null,
   "metadata": {},
   "outputs": [],
   "source": []
  }
 ],
 "metadata": {
  "kernelspec": {
   "display_name": "Python 2",
   "language": "python",
   "name": "python2"
  },
  "language_info": {
   "codemirror_mode": {
    "name": "ipython",
    "version": 2
   },
   "file_extension": ".py",
   "mimetype": "text/x-python",
   "name": "python",
   "nbconvert_exporter": "python",
   "pygments_lexer": "ipython2",
   "version": "2.7.15rc1"
  }
 },
 "nbformat": 4,
 "nbformat_minor": 2
}
